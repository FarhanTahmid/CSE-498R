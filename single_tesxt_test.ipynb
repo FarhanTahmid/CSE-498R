{
 "cells": [
  {
   "cell_type": "code",
   "execution_count": 1,
   "metadata": {},
   "outputs": [
    {
     "name": "stderr",
     "output_type": "stream",
     "text": [
      "g:\\OneDrive - northsouth.edu\\CODES\\PROJECTS\\PROJECT - Bullishield Models\\venv\\Lib\\site-packages\\tqdm\\auto.py:21: TqdmWarning: IProgress not found. Please update jupyter and ipywidgets. See https://ipywidgets.readthedocs.io/en/stable/user_install.html\n",
      "  from .autonotebook import tqdm as notebook_tqdm\n"
     ]
    }
   ],
   "source": [
    "import torch.nn as nn\n",
    "from transformers import BertTokenizer, BertModel\n",
    "import bangla_nlp\n",
    "import torch"
   ]
  },
  {
   "cell_type": "code",
   "execution_count": 2,
   "metadata": {},
   "outputs": [],
   "source": [
    "# Bangla Bert model\n",
    "class CyberBullyingClassifierBangla(nn.Module):\n",
    "    def __init__(self):\n",
    "        super(CyberBullyingClassifierBangla, self).__init__()\n",
    "        self.bert = BertModel.from_pretrained('sagorsarker/bangla-bert-base')\n",
    "        self.dropout = nn.Dropout(0.1)\n",
    "        self.fc = nn.Linear(self.bert.config.hidden_size, 1)\n",
    "        self.sigmoid = nn.Sigmoid()\n",
    "\n",
    "    def forward(self, input_ids, attention_mask):\n",
    "        outputs = self.bert(input_ids=input_ids, attention_mask=attention_mask)\n",
    "        pooled_output = outputs.pooler_output\n",
    "        pooled_output = self.dropout(pooled_output)\n",
    "        logits = self.fc(pooled_output)\n",
    "        probability = self.sigmoid(logits)\n",
    "        return probability"
   ]
  },
  {
   "cell_type": "code",
   "execution_count": 3,
   "metadata": {},
   "outputs": [],
   "source": [
    "device = torch.device(\"cuda\" if torch.cuda.is_available() else \"cpu\")"
   ]
  },
  {
   "cell_type": "code",
   "execution_count": 4,
   "metadata": {},
   "outputs": [
    {
     "data": {
      "text/plain": [
       "<All keys matched successfully>"
      ]
     },
     "execution_count": 4,
     "metadata": {},
     "output_type": "execute_result"
    }
   ],
   "source": [
    "bangla_model=CyberBullyingClassifierBangla()\n",
    "bangla_model.to(device=device)\n",
    "bangla_model.load_state_dict(torch.load('Created Models/bangla_bert.pth'))"
   ]
  },
  {
   "cell_type": "code",
   "execution_count": 5,
   "metadata": {},
   "outputs": [],
   "source": [
    "def bangla_string_preprocessing(string):\n",
    "    clean_punctuation=bangla_nlp.clean_punctuations(text=string)\n",
    "    clean_emoji=bangla_nlp.clean_emoji(text=clean_punctuation)\n",
    "    clean_url=bangla_nlp.clean_url_and_email(clean_emoji)\n",
    "    clean_text=bangla_nlp.clean_digits(text=clean_url)\n",
    "    return clean_text"
   ]
  },
  {
   "cell_type": "code",
   "execution_count": 6,
   "metadata": {},
   "outputs": [],
   "source": [
    "def predict_bangla_cyberbullying(model, texts, device):\n",
    "    tokenizer = BertTokenizer.from_pretrained('sagorsarker/bangla-bert-base')\n",
    "    model.eval()\n",
    "    clean_texts=[]\n",
    "    for i in texts:\n",
    "        clean_texts.append(bangla_string_preprocessing(i))\n",
    "    tokenized_texts = tokenizer.batch_encode_plus(\n",
    "        clean_texts,\n",
    "        max_length=128,\n",
    "        padding='max_length',\n",
    "        truncation=True,\n",
    "        return_token_type_ids=False,\n",
    "        return_attention_mask=True,\n",
    "        return_tensors='pt'\n",
    "    )\n",
    "    inputs = {key: val.to(device) for key, val in tokenized_texts.items()}\n",
    "    with torch.no_grad():\n",
    "        outputs = model(**inputs)\n",
    "    probabilities = outputs.cpu().numpy()\n",
    "    return probabilities"
   ]
  },
  {
   "cell_type": "code",
   "execution_count": 7,
   "metadata": {},
   "outputs": [],
   "source": [
    "def checkCyberBullying(text):\n",
    "    probs=predict_bangla_cyberbullying(model=bangla_model,device=device,texts=text)\n",
    "    flag=False\n",
    "    print(probs)\n",
    "    for i in probs:\n",
    "        if(i>=0.5):\n",
    "            flag=True\n",
    "            break\n",
    "    if(flag):\n",
    "        print(f\"Text: {text} is marked as cyberbullying\")\n",
    "    else:\n",
    "        print(f\"Text: {text} is not marked as cyberbullying\")\n"
   ]
  },
  {
   "cell_type": "code",
   "execution_count": 9,
   "metadata": {},
   "outputs": [
    {
     "name": "stdout",
     "output_type": "stream",
     "text": [
      "[[0.0004358]]\n",
      "Text: ['আমি তোমায় ভালোবাসি'] is not marked as cyberbullying\n"
     ]
    }
   ],
   "source": [
    "text=[\"আমি তোমায় ভালোবাসি\"]\n",
    "checkCyberBullying(text=text)"
   ]
  }
 ],
 "metadata": {
  "kernelspec": {
   "display_name": "venv",
   "language": "python",
   "name": "python3"
  },
  "language_info": {
   "codemirror_mode": {
    "name": "ipython",
    "version": 3
   },
   "file_extension": ".py",
   "mimetype": "text/x-python",
   "name": "python",
   "nbconvert_exporter": "python",
   "pygments_lexer": "ipython3",
   "version": "3.11.1"
  }
 },
 "nbformat": 4,
 "nbformat_minor": 2
}
